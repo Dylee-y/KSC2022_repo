{
 "cells": [
  {
   "cell_type": "code",
   "execution_count": 2,
   "metadata": {},
   "outputs": [
    {
     "name": "stdout",
     "output_type": "stream",
     "text": [
      "Requirement already satisfied: grad-cam in /home/percv-d0/anaconda3/envs/conda-env/lib/python3.10/site-packages (1.4.5)\n",
      "Requirement already satisfied: scikit-learn in /home/percv-d0/anaconda3/envs/conda-env/lib/python3.10/site-packages (from grad-cam) (1.1.2)\n",
      "Requirement already satisfied: Pillow in /home/percv-d0/anaconda3/envs/conda-env/lib/python3.10/site-packages (from grad-cam) (9.2.0)\n",
      "Requirement already satisfied: opencv-python in /home/percv-d0/anaconda3/envs/conda-env/lib/python3.10/site-packages (from grad-cam) (4.6.0.66)\n",
      "Requirement already satisfied: torch>=1.7.1 in /home/percv-d0/anaconda3/envs/conda-env/lib/python3.10/site-packages (from grad-cam) (1.12.1)\n",
      "Requirement already satisfied: torchvision>=0.8.2 in /home/percv-d0/anaconda3/envs/conda-env/lib/python3.10/site-packages (from grad-cam) (0.13.1)\n",
      "Requirement already satisfied: tqdm in /home/percv-d0/anaconda3/envs/conda-env/lib/python3.10/site-packages (from grad-cam) (4.64.1)\n",
      "Requirement already satisfied: numpy in /home/percv-d0/anaconda3/envs/conda-env/lib/python3.10/site-packages (from grad-cam) (1.23.1)\n",
      "Requirement already satisfied: ttach in /home/percv-d0/anaconda3/envs/conda-env/lib/python3.10/site-packages (from grad-cam) (0.0.3)\n",
      "Requirement already satisfied: matplotlib in /home/percv-d0/anaconda3/envs/conda-env/lib/python3.10/site-packages (from grad-cam) (3.5.3)\n",
      "Requirement already satisfied: typing_extensions in /home/percv-d0/anaconda3/envs/conda-env/lib/python3.10/site-packages (from torch>=1.7.1->grad-cam) (4.3.0)\n",
      "Requirement already satisfied: requests in /home/percv-d0/anaconda3/envs/conda-env/lib/python3.10/site-packages (from torchvision>=0.8.2->grad-cam) (2.28.1)\n",
      "Requirement already satisfied: pyparsing>=2.2.1 in /home/percv-d0/anaconda3/envs/conda-env/lib/python3.10/site-packages (from matplotlib->grad-cam) (3.0.9)\n",
      "Requirement already satisfied: python-dateutil>=2.7 in /home/percv-d0/anaconda3/envs/conda-env/lib/python3.10/site-packages (from matplotlib->grad-cam) (2.8.2)\n",
      "Requirement already satisfied: packaging>=20.0 in /home/percv-d0/anaconda3/envs/conda-env/lib/python3.10/site-packages (from matplotlib->grad-cam) (21.3)\n",
      "Requirement already satisfied: cycler>=0.10 in /home/percv-d0/anaconda3/envs/conda-env/lib/python3.10/site-packages (from matplotlib->grad-cam) (0.11.0)\n",
      "Requirement already satisfied: fonttools>=4.22.0 in /home/percv-d0/anaconda3/envs/conda-env/lib/python3.10/site-packages (from matplotlib->grad-cam) (4.35.0)\n",
      "Requirement already satisfied: kiwisolver>=1.0.1 in /home/percv-d0/anaconda3/envs/conda-env/lib/python3.10/site-packages (from matplotlib->grad-cam) (1.4.4)\n",
      "Requirement already satisfied: scipy>=1.3.2 in /home/percv-d0/anaconda3/envs/conda-env/lib/python3.10/site-packages (from scikit-learn->grad-cam) (1.9.0)\n",
      "Requirement already satisfied: threadpoolctl>=2.0.0 in /home/percv-d0/anaconda3/envs/conda-env/lib/python3.10/site-packages (from scikit-learn->grad-cam) (3.1.0)\n",
      "Requirement already satisfied: joblib>=1.0.0 in /home/percv-d0/anaconda3/envs/conda-env/lib/python3.10/site-packages (from scikit-learn->grad-cam) (1.1.0)\n",
      "Requirement already satisfied: six>=1.5 in /home/percv-d0/anaconda3/envs/conda-env/lib/python3.10/site-packages (from python-dateutil>=2.7->matplotlib->grad-cam) (1.16.0)\n",
      "Requirement already satisfied: idna<4,>=2.5 in /home/percv-d0/anaconda3/envs/conda-env/lib/python3.10/site-packages (from requests->torchvision>=0.8.2->grad-cam) (3.3)\n",
      "Requirement already satisfied: charset-normalizer<3,>=2 in /home/percv-d0/anaconda3/envs/conda-env/lib/python3.10/site-packages (from requests->torchvision>=0.8.2->grad-cam) (2.0.4)\n",
      "Requirement already satisfied: certifi>=2017.4.17 in /home/percv-d0/anaconda3/envs/conda-env/lib/python3.10/site-packages (from requests->torchvision>=0.8.2->grad-cam) (2022.6.15)\n",
      "Requirement already satisfied: urllib3<1.27,>=1.21.1 in /home/percv-d0/anaconda3/envs/conda-env/lib/python3.10/site-packages (from requests->torchvision>=0.8.2->grad-cam) (1.26.11)\n",
      "Note: you may need to restart the kernel to use updated packages.\n"
     ]
    }
   ],
   "source": [
    "%pip install grad-cam"
   ]
  },
  {
   "cell_type": "code",
   "execution_count": 1,
   "metadata": {},
   "outputs": [
    {
     "name": "stderr",
     "output_type": "stream",
     "text": [
      "Downloading: \"https://download.pytorch.org/models/deeplabv3_resnet50_coco-cd0a2569.pth\" to /home/percv-d0/.cache/torch/hub/checkpoints/deeplabv3_resnet50_coco-cd0a2569.pth\n"
     ]
    },
    {
     "name": "stdout",
     "output_type": "stream",
     "text": [
      "<class 'collections.OrderedDict'> odict_keys(['out', 'aux'])\n"
     ]
    }
   ],
   "source": [
    "import warnings\n",
    "warnings.filterwarnings('ignore')\n",
    "warnings.simplefilter('ignore')\n",
    "from torchvision.models.segmentation import deeplabv3_resnet50\n",
    "import torch\n",
    "import torch.functional as F\n",
    "import numpy as np\n",
    "import requests\n",
    "import torchvision\n",
    "from PIL import Image\n",
    "from pytorch_grad_cam.utils.image import show_cam_on_image, preprocess_image\n",
    "\n",
    "\n",
    "image_url = \"https://farm1.staticflickr.com/6/9606553_ccc7518589_z.jpg\"\n",
    "image = np.array(Image.open(requests.get(image_url, stream=True).raw))\n",
    "rgb_img = np.float32(image) / 255\n",
    "input_tensor = preprocess_image(rgb_img,\n",
    "                                mean=[0.485, 0.456, 0.406],\n",
    "                                std=[0.229, 0.224, 0.225])\n",
    "# Taken from the torchvision tutorial\n",
    "# https://pytorch.org/vision/stable/auto_examples/plot_visualization_utils.html\n",
    "model = deeplabv3_resnet50(pretrained=True, progress=False)\n",
    "model = model.eval()\n",
    "\n",
    "if torch.cuda.is_available():\n",
    "    model = model.cuda()\n",
    "    input_tensor = input_tensor.cuda()\n",
    "\n",
    "output = model(input_tensor)\n",
    "print(type(output), output.keys())"
   ]
  }
 ],
 "metadata": {
  "kernelspec": {
   "display_name": "Python 3.10.4 ('conda-env')",
   "language": "python",
   "name": "python3"
  },
  "language_info": {
   "codemirror_mode": {
    "name": "ipython",
    "version": 3
   },
   "file_extension": ".py",
   "mimetype": "text/x-python",
   "name": "python",
   "nbconvert_exporter": "python",
   "pygments_lexer": "ipython3",
   "version": "3.10.4"
  },
  "orig_nbformat": 4,
  "vscode": {
   "interpreter": {
    "hash": "375354bc5e25027f004db34f425471454e2e00f2147462dbd44f7a0ca711f488"
   }
  }
 },
 "nbformat": 4,
 "nbformat_minor": 2
}
